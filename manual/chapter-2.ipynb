{
 "cells": [
  {
   "cell_type": "markdown",
   "id": "6ca50021",
   "metadata": {},
   "source": [
    "# Chapter 2\n",
    "## Exercise 2.1\n",
    "\n",
    "For each one of the following sets, determine whether it is a polyhedron.\n",
    "\n",
    "(a) The set of all $(x, y)\\in \\mathcal{R}^2$ satisfying the constraints:\n",
    "\n",
    "$$\n",
    "\\begin{aligned}\n",
    "x\\cos\\theta+y\\sin\\theta&\\leq 1,\\quad \\forall~\\theta \\in[0, \\pi/2],\\\\\n",
    "x&\\geq 0,\\\\\n",
    "y&\\geq 0.\n",
    "\\end{aligned}\n",
    "$$\n",
    "\n",
    "(b) The set of all $x\\in\\mathcal{R}$ satisfying the constraint $x^2 - 8x + 15 \\leq 0$.\n",
    "\n",
    "(c) The empty set."
   ]
  },
  {
   "cell_type": "markdown",
   "id": "6386c110",
   "metadata": {},
   "source": [
    "**Solution:**\n",
    "\n",
    "(a) The set equals $\\{ (x,y) | x \\geq 0, y \\geq 0, x^2 + y^2 \\leq 1 \\}$, which has the following image:"
   ]
  },
  {
   "cell_type": "markdown",
   "id": "cdc1180c",
   "metadata": {},
   "source": [
    "![circle.png](images/2-1.png)"
   ]
  },
  {
   "cell_type": "markdown",
   "id": "3dd6caee",
   "metadata": {},
   "source": [
    "It is a set represented by infinite linear constraints, while a polyhedron is formed by **finite** linear constraints.\n",
    "\n",
    "(b) The set is $\\{x\\geq 3, x\\leq 5\\}$ and is a polyhedron.\n",
    "\n",
    "(c) The empty set can be represented as $\\{x\\geq 0, x< 0\\}$ and is a polyhedron."
   ]
  },
  {
   "cell_type": "markdown",
   "id": "9b6af309",
   "metadata": {},
   "source": [
    "```{note}\n",
    "A polyhedron is formed by finite linear constraints.\n",
    "```"
   ]
  },
  {
   "cell_type": "markdown",
   "id": "ca101dc5",
   "metadata": {},
   "source": [
    "## Exercise 2.2\n",
    "\n",
    "Let $f:\\mathcal{R}^n\\rightarrow\\mathcal{R}$ be a convex function and let $c$ be some constant. Show that the set $S = \\{\\bf{x} \\in \\mathcal{R}^n\\mid f(\\bf{x}) \\leq c\\}$ is convex.\n"
   ]
  },
  {
   "cell_type": "markdown",
   "id": "a8a978f8",
   "metadata": {},
   "source": [
    "**Solution:**\n",
    "\n",
    "Assume two random element $x_1$ and $x_2$ in the set $S$,  therefore\n",
    "\n",
    "$$\n",
    " \\begin{aligned}\n",
    " f(x_1)\\leq c\\\\\n",
    " f(x_2)\\leq c\n",
    " \\end{aligned}\n",
    "$$\n",
    "\n",
    "For a parameter $\\theta\\in [0, 1]$, \n",
    "\n",
    "$$\n",
    " \\begin{aligned}\n",
    " \\theta f(x_1)&\\leq  \\theta c\\\\\n",
    " (1-\\theta)f(x_2)&\\leq  (1-\\theta) c\n",
    " \\end{aligned}\n",
    "$$\n",
    "\n",
    " Thus, \n",
    " \n",
    "$$\n",
    " \\theta f(x_1)+ (1-\\theta)f(x_2)\\leq c\n",
    "$$\n",
    "\n",
    "Since $f$ is a convex function, \n",
    "\n",
    "$$\n",
    "f(\\theta x_1+(1-\\theta)x_2)\\leq \\theta f(x_1)+ (1-\\theta)f(x_2)\n",
    "$$\n",
    "\n",
    "And this leads to\n",
    "\n",
    "$$\n",
    "f(\\theta x_1+(1-\\theta)x_2)\\leq c\n",
    "$$\n",
    "\n",
    "Therefore, the set $S$ is convex. $\\Box$\n"
   ]
  },
  {
   "cell_type": "markdown",
   "id": "9bf5e739",
   "metadata": {},
   "source": [
    "## Exercise 2.4\n",
    "We know that every linear programming problem can be converted to an equivalent problem in standard form. We also know that nonempty polyhedra in standard form have at least one extreme point. We are then tempted to conclude that every nonempty polyhedron has at least one extreme point. Explain what is wrong with this argument."
   ]
  },
  {
   "cell_type": "markdown",
   "id": "4df9b5e8",
   "metadata": {},
   "source": [
    "**Solution:**\n",
    "\n",
    "Assume a nonempty polydron is a hyperplane ${\\bf a'x}=b$, for any point $x_0$ in it, we can find other two points $x_1$, $x_2$ that satisfies $x_0 = \\lambda x_1+(1-\\lambda)x_2$, so there can not be an extreme point in this polyhedron. "
   ]
  },
  {
   "cell_type": "markdown",
   "id": "2e496ec6",
   "metadata": {},
   "source": [
    "```{note}\n",
    "A hyperplane is a polyhedron, but it does has extreme points.\n",
    "```"
   ]
  },
  {
   "cell_type": "markdown",
   "id": "d8651db7",
   "metadata": {},
   "source": [
    "## Exercise 2.5\n",
    "**(ExtreIne points of isoInorphic polyhedra)** A mapping $f$ is called affine if it is of the form $f(\\bf x) = Ax + b$, where $\\bf A$ is a matrix and $\\bf b$ is a vector. Let $P$ and $Q$ be polyhedra in $\\mathcal{R}^n$ and $\\mathcal{R}^m$ , respectively. We say that $P$ and $Q$ are isomorphic if there exist affine mappings $f: P\\rightarrow Q$ and $g: Q\\rightarrow P$ such that $g(f(\\bf x) = x$ for all $\\mathbf{x} \\in P$, and $f(g(\\bf y) = y$ for all $\\mathbf{y} \\in Q.$ (Intuitively, isomorphic polyhedra have the same shape.)\n",
    "\n",
    "(a) If $P$ and $Q$ are isomorphic, show that there exists a one-to-one correspondence between their extreme points. In particular, if $f$ and $g$ are as above, show that $\\bf x$ is an extreme point of $P$ if and only if $f(\\bf x)$ is an extreme point of $Q$.\n",
    "\n",
    "(b) **(Introducing slack variables leads to an isoInorphic polyhedron)** Let $P = \\{\\mathbf{x} \\in \\mathcal{R}^n \\mid \\bf Ax \\geq b, x\\geq 0\\}$, where $\\bf A$ is a matrix of dimensions $k\\times n$. Let $Q = \\{\\bf (x, z) \\in \\mathcal{R}^{n+k} \\mid Ax - z = b, x \\geq 0, z \\geq 0\\}$. Show that $P$ and $Q$ are isomorphic."
   ]
  },
  {
   "cell_type": "markdown",
   "id": "b358de2b",
   "metadata": {},
   "source": [
    "**Solution:**\n",
    "\n",
    "(a) We first prove：if $\\bf x$ is the extreme point of $P$, then it is also the extreme point of $Q$.\n",
    "\n",
    "According to the definition of extreme point and Theorem 2.3 in the book, $\\bf x$ is also a vertex of $P$, then:\n",
    "there exists a vector $\\bf c$ such that $\\bf c'x<c'y$ for all $\\bf y$ satisfying $\\bf y\\in P$ and $\\bf y\\neq x$.\n",
    "\n",
    "Since $g(f(\\bf x))=\\bf x$,\n",
    "\n",
    "$$\n",
    "\\begin{align*}\n",
    "&\\bf c'g(f(\\mathbf x))<c'g(f(y))\\\\\n",
    "\\Rightarrow&\\bf c'g(Ax+b)<c'g(Ay+b).\n",
    "\\end{align*}\n",
    "$$\n",
    "\n",
    "Since $g$ is an affine function, we assume $g(\\bf x)=Dx+d$, then\n",
    "\n",
    "$$\n",
    "\\begin{align*}\n",
    "\\Rightarrow&\\bf c'(D(Ax+b)+d))<c'(D(Ay+b)+d))\\\\\n",
    "\\Rightarrow&\\bf c'D(Ax+b)<c'D(Ay+b)\n",
    "\\end{align*}\n",
    "$$\n",
    "\n",
    "$\\bf Ax+b$, $\\bf Ay+b$ are the points in $Q$. $\\bf c'D$ is a vector and $\\bf Ax+b \\neq Ay+b$. By the definition of vertex, $\\bf Ax+b$ is the vertex of $Q$. Thus it is also an extreme point of $Q$.\n",
    "\n",
    "In a similar way, we can prove: if $\\bf x$ is the extreme point of $Q$, then it is also the extreme point of $P$。$\\Box$\n",
    "\n",
    "(b) By obtaining the formulas of $f$ and $g$, we can prove $P$ and $Q$ are isomorphic.\n",
    "\n",
    "The formulas of $f$ and $g$ are below:\n",
    "\n",
    "$$\n",
    "f=\\bf \\left(\n",
    "\\begin{aligned}\n",
    "\\bf I\\\\\n",
    "\\bf 0\n",
    "\\end{aligned}\n",
    "\\right)x+\n",
    "\\left(\n",
    "\\begin{aligned}\n",
    "\\bf 0\\\\\n",
    "\\bf z\n",
    "\\end{aligned}\n",
    "\\right)\n",
    "$$\n",
    "\n",
    "\n",
    "$$\n",
    "g=\\bf (I, 0)\\left(\n",
    "\\begin{aligned}\n",
    "\\bf x\\\\\n",
    "\\bf z\n",
    "\\end{aligned}\n",
    "\\right)\n",
    "$$"
   ]
  },
  {
   "cell_type": "code",
   "execution_count": null,
   "id": "5f1c78c7",
   "metadata": {},
   "outputs": [],
   "source": []
  }
 ],
 "metadata": {
  "kernelspec": {
   "display_name": "Python 3 (ipykernel)",
   "language": "python",
   "name": "python3"
  },
  "language_info": {
   "codemirror_mode": {
    "name": "ipython",
    "version": 3
   },
   "file_extension": ".py",
   "mimetype": "text/x-python",
   "name": "python",
   "nbconvert_exporter": "python",
   "pygments_lexer": "ipython3",
   "version": "3.10.9"
  }
 },
 "nbformat": 4,
 "nbformat_minor": 5
}
