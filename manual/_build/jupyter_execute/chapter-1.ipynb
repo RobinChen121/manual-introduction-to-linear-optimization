{
 "cells": [
  {
   "cell_type": "markdown",
   "id": "ac3e644a",
   "metadata": {},
   "source": [
    "<!-- Toogle google translation -->\n",
    "<div id=\"google_translate_element\"></div>\n",
    "\n",
    "<style>    \n",
    ".goog-te-gadget {\n",
    "  font-family: Roboto, \"Open Sans\", sans-serif !important;\n",
    "  text-transform: uppercase;\n",
    "}\n",
    ".goog-te-gadget-simple {\n",
    "  background-color: rgba(255, 255, 255, 0.2) !important;\n",
    "  border: 1px solid rgba(237, 230, 230, 0.5) !important;\n",
    "  padding: 8px !important;\n",
    "  border-radius: 4px !important;\n",
    "  font-size: 1rem !important;\n",
    "  line-height: 1rem !important;\n",
    "  display: inline-block;\n",
    "  cursor: pointer;\n",
    "  zoom: 1;\n",
    "}\n",
    "\n",
    ".goog-te-gadget-icon {\n",
    "  background-image: url(https://placehold.it/32) !important;\n",
    "  background-position: 0px 0px;\n",
    "  height: 0px !important;\n",
    "  width: 0px !important;\n",
    "  margin-right: 8px !important;\n",
    "  display: none;\n",
    "}\n",
    "\n",
    ".VIpgJd-ZVi9od-ORHb-OEVmcd {\n",
    "    display: none; // add !important if required \n",
    "  }\n",
    "    \n",
    ".goog-te-banner-frame.skiptranslate {\n",
    "    display: none !important;\n",
    "    } \n",
    "body {\n",
    "    top: 0px !important; \n",
    "    }\n",
    "</style>\n",
    "\n",
    "<script type=\"text/javascript\">\n",
    "      function googleTranslateElementInit() {\n",
    "        new google.translate.TranslateElement({ pageLanguage: 'en',\n",
    "                  includedLanguages: 'en,zh-CN,zh-TW,ja,ko,de,ru,fr,es,it,pt,hi,ar',\n",
    "layout: google.translate.TranslateElement.InlineLayout.SIMPLE }, 'google_translate_element');\n",
    "      }\n",
    "</script>\n",
    "<script type=\"text/javascript\"\n",
    "      src=\"https://translate.google.com/translate_a/element.js?cb=googleTranslateElementInit\"\n",
    "></script>\n",
    "<br>"
   ]
  },
  {
   "cell_type": "markdown",
   "id": "b30f5388",
   "metadata": {},
   "source": [
    "# Chapter 1\n",
    "## Exercise 1.1*"
   ]
  },
  {
   "cell_type": "markdown",
   "id": "15a55f12",
   "metadata": {},
   "source": [
    "Suppose that a function $f: \\mathcal{R}^n \\rightarrow \\mathcal{R}$ is both concave and convex. Prove that $f$ is an affine function.\n",
    "\n",
    "---"
   ]
  },
  {
   "cell_type": "markdown",
   "id": "8af0d765",
   "metadata": {},
   "source": [
    "**Solution:**\n",
    "\n",
    "The definition of affine function: a function of the form $f(x) = a_0 + \\sum_{i=1}^n a_ix_i$, where $a_0, . . . , a_n$ are scalars, called an affine function."
   ]
  },
  {
   "cell_type": "markdown",
   "id": "cf515d8b",
   "metadata": {},
   "source": [
    " We must show that $f$ can be written in this form. Let $g(x)=f(x)-f(0)$, so $f(x)=f(0)+g(x)$. After making $a_0=f(0)$, we must show $g(x)$ can be in the form $g(x)=\\sum_{i=1}^na_ix_i$ in the next step."
   ]
  },
  {
   "cell_type": "markdown",
   "id": "3af78587",
   "metadata": {},
   "source": [
    " To do this, we must show that $g(ax)=ag(x)$ for any scalar $a$ and $g(x+y)=g(x)+g(y)$ for any $x,y\\in\\mathcal{R}^n$."
   ]
  },
  {
   "cell_type": "markdown",
   "id": "a0969dcc",
   "metadata": {},
   "source": [
    "Recall that $f$ is both convex and concave, for any two points $x,y\\in\\mathcal{R}^n$ and any $0\\leq \\lambda\\leq 1$, $f[\\lambda x+(1-\\lambda)y]=\\lambda f(x)+(1-\\lambda)f(y)$,"
   ]
  },
  {
   "cell_type": "markdown",
   "id": "92c58532",
   "metadata": {},
   "source": [
    "- if $a=0$, it is trival that $g(ax)=ag(x)$ since $g(0)=0$."
   ]
  },
  {
   "cell_type": "markdown",
   "id": "4d04d3e5",
   "metadata": {},
   "source": [
    "- if $0<a\\leq 1$,\n",
    "\n",
    "$$\n",
    "g(ax)=f(ax)-f(0)=f\\big(ax+(1-a)0\\big)-f(0)=af(x)+(1-a)f(0)-f(0)=af(x)-af(0)=ag(x);\n",
    "$$"
   ]
  },
  {
   "cell_type": "markdown",
   "id": "0b17e69e",
   "metadata": {},
   "source": [
    "- if $a>1$,\n",
    "\n",
    "$$\n",
    "\\begin{align}\n",
    "g(x)=g(\\frac{1}{a}ax)=f(\\frac{1}{a}ax)-f(0)=f\\big(\\frac{1}{a}ax+(1-\\frac{1}{a})0\\big)-f(0)&=\\frac{1}{a}f(ax)+(1-\\frac{1}{a})f(0)-f(0)\\\\\n",
    "&=\\frac{1}{a}f(ax)-\\frac{1}{a}f(0)\\\\\n",
    "&=\\frac{1}{a}g(ax),\n",
    "\\end{align}\n",
    "$$\n",
    "\n",
    "$$\n",
    "\\Rightarrow\\quad g(ax)=ag(x).\n",
    "$$"
   ]
  },
  {
   "cell_type": "markdown",
   "id": "c8d9d283",
   "metadata": {},
   "source": [
    "Based on the above situations of $a$, we can prove that $g(x+y)=g(x)+g(y)$:\n",
    "\n",
    "$$\n",
    "\\begin{align}\n",
    "g(x+y)&=g(\\frac{1}{2}2x+\\frac{1}{2}2y)\\\\\n",
    "&=\\frac{1}{2}g(2x)+\\frac{1}{2}g(2y)\\\\\n",
    "&=\\frac{1}{2}2g(x)+\\frac{1}{2}2g(y)\\\\\n",
    "&=g(x)+g(y).\n",
    "\\end{align}\n",
    "$$\n"
   ]
  },
  {
   "cell_type": "markdown",
   "id": "eeffcde6",
   "metadata": {},
   "source": [
    "By making use of the above formula, we can also get:\n",
    "\n",
    "$$\n",
    "\\begin{align}\n",
    "&g(x)=g(2x-x)=g(2x)+g(-x)=2g(x)+g(-x)\\\\\n",
    "\\Rightarrow\\quad&g(x)=-g(-x).\n",
    "\\end{align}\n",
    "$$"
   ]
  },
  {
   "cell_type": "markdown",
   "id": "24858df0",
   "metadata": {},
   "source": [
    "- if $a<0$,\n",
    "\n",
    "$$\n",
    "\\begin{align}\n",
    "g(ax)=g\\big(-a(-x)\\big)&=-ag(-x)\\\\\n",
    "&=-a\\big(-g(x)\\big)\\\\\n",
    "&=ag(x).\n",
    "\\end{align}\n",
    "$$"
   ]
  },
  {
   "cell_type": "markdown",
   "id": "c72e8d5b",
   "metadata": {},
   "source": [
    "Now we have proved that for $g(ax)=ag(x)$ for any scalar $a$ and $g(x+y)=g(x)+g(y)$ for any $x,y\\in\\mathcal{R}^n$. So $g(x)$ can be in the form $g(x)=\\sum_{i=1}^na_ix_i$ and $f(x)$ can be in the form $f(x) = a_0 + \\sum_{i=1}^n a_ix_i$. Therefore, $f$ is an affine function.\n",
    "\n",
    "$\\Box$."
   ]
  },
  {
   "cell_type": "markdown",
   "id": "e471e4e0",
   "metadata": {},
   "source": [
    "```{note}\n",
    "The first exercise in this book is non-trival at all!\n",
    "```"
   ]
  },
  {
   "cell_type": "markdown",
   "id": "0b4e5d6d",
   "metadata": {},
   "source": [
    "## Exercise 1.2\n",
    "\n",
    "Suppose that $f_1 , \\dots, f_m$ are convex functions from $\\mathcal{R}^n$ into $\\mathcal{R}$ and let $f(x) = \\sum_{i=1}^m f_i(\\mathbf{x})$.\n",
    "\n",
    "(a) Show that if each $f_i$ is convex, so is $f$.\n",
    "\n",
    "(b) Show that if each $f_i$ is piecewise linear and convex, so is $f$."
   ]
  },
  {
   "cell_type": "markdown",
   "id": "1796ae79",
   "metadata": {},
   "source": [
    "---\n",
    "\n",
    "**Solution:**\n",
    "\n",
    "*Proof.*\n",
    "\n",
    "(a) for any two $\\mathbf{x},\\mathbf{y}\\in \\mathcal{R}^n$ and $\\lambda \\in [0, 1]$,\n",
    "\n",
    "$$\n",
    "\\begin{align}\n",
    "f\\big(\\lambda \\mathbf{x}+(1-\\lambda)\\mathbf{y}\\big)&=\\sum_{i=1}^mf_i\\big(\\lambda \\mathbf{x}+(1-\\lambda)\\mathbf{y}\\big) \\\\\n",
    "&\\leq \\sum_{i=1}^m\\big(\\lambda f_i(\\mathbf{x}) +(1-\\lambda)f_i(\\mathbf{y})\\big)\\\\\n",
    "&= \\sum_{i=1}^m\\lambda f_i(\\mathbf{x}) + \\sum_{i=1}^m(1-\\lambda)f_i(\\mathbf{y})\\\\\n",
    "&=\\lambda f(\\mathbf{x}) +(1-\\lambda)f(\\mathbf{y})\n",
    "\\end{align}\n",
    "$$\n"
   ]
  },
  {
   "cell_type": "markdown",
   "id": "9386eaf7",
   "metadata": {},
   "source": [
    "Therefore, $f$ is convex."
   ]
  },
  {
   "cell_type": "markdown",
   "id": "03e4844d",
   "metadata": {},
   "source": [
    "(b) The definition of piecewise linear convex function: a function of this form $\\max_{j=1,\\dots,k} (\\mathbf{c_j^Tx}+d_j)$."
   ]
  },
  {
   "cell_type": "markdown",
   "id": "6d00a61c",
   "metadata": {},
   "source": [
    "Since each $f_i$ is piecewise linear convex,\n",
    "\n",
    "$$\n",
    "\\begin{align}\n",
    "f=\\sum_{i=1}^m f_i(\\mathbf{x})=\\sum_{i=1}^m\\max_{j^i=1^i,\\dots,k^i}(\\mathbf{c_{j^i}^{T}x}+d_{j^i})\n",
    "\\end{align}\n",
    "$$"
   ]
  },
  {
   "cell_type": "markdown",
   "id": "c3c3219f",
   "metadata": {},
   "source": [
    "It is obvious that $\\max\\{a, b\\}+\\max\\{c,d\\}=\\max\\{a+c, a+d, b+c, b+d\\}$, i.e., the sum of several max expressions equals the max of all possible sums of selecting one element from each max expression."
   ]
  },
  {
   "cell_type": "markdown",
   "id": "d4ccc28e",
   "metadata": {},
   "source": [
    " Therefore, we can enumerate all the possible combinations of the sums to tranform $f$ in a linear convex form:\n",
    "\n",
    "$$\n",
    "f=\\max\\{\\mathbf{c_{1^1}^Tx}+d_{1^1} +\\dots + \\mathbf{c_{1^m}^Tx}+d_{1^m},~~ \\dots, ~~\\mathbf{c_{k^1}^Tx}+d_{k^1}+\\dots+\\mathbf{c_{k^m}^Tx}+d_{k^m}\\}\n",
    "$$"
   ]
  },
  {
   "cell_type": "markdown",
   "id": "b6290602",
   "metadata": {},
   "source": [
    "There are $\\Pi_i k_i$ combinations, in which $k_i$ is the number of affine functions in the expression of $f_i$.\n",
    "\n",
    "$\\Box$"
   ]
  },
  {
   "cell_type": "markdown",
   "id": "ba6a9223",
   "metadata": {},
   "source": [
    "<script src=\"https://giscus.app/client.js\"\n",
    "        data-repo=\"robinchen121/book-Python-Data-Science\"\n",
    "        data-repo-id=\"R_kgDOKFdyOw\"\n",
    "        data-category=\"Announcements\"\n",
    "        data-category-id=\"DIC_kwDOKFdyO84CgWHi\"\n",
    "        data-mapping=\"pathname\"\n",
    "        data-strict=\"0\"\n",
    "        data-reactions-enabled=\"1\"\n",
    "        data-emit-metadata=\"0\"\n",
    "        data-input-position=\"bottom\"\n",
    "        data-theme=\"light\"\n",
    "        data-lang=\"en\"\n",
    "        crossorigin=\"anonymous\"\n",
    "        async>\n",
    "</script>"
   ]
  },
  {
   "cell_type": "code",
   "execution_count": null,
   "id": "4e8bda4a",
   "metadata": {},
   "outputs": [],
   "source": []
  }
 ],
 "metadata": {
  "kernelspec": {
   "display_name": "Python 3 (ipykernel)",
   "language": "python",
   "name": "python3"
  },
  "language_info": {
   "codemirror_mode": {
    "name": "ipython",
    "version": 3
   },
   "file_extension": ".py",
   "mimetype": "text/x-python",
   "name": "python",
   "nbconvert_exporter": "python",
   "pygments_lexer": "ipython3",
   "version": "3.10.9"
  }
 },
 "nbformat": 4,
 "nbformat_minor": 5
}