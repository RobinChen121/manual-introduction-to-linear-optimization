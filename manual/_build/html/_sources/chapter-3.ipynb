{
 "cells": [
  {
   "cell_type": "markdown",
   "id": "eafbb3d0",
   "metadata": {},
   "source": [
    "# Chapter 3\n",
    "## Exercise 3.1 \n",
    "\n",
    "**(Local minimum of convex functions)** Let $f: \\mathcal{R}^n \\rightarrow \\mathcal{R}$ be a convex function and let $S \\in \\mathcal{R}^n$ be a convex set. Let $x^\\ast$ be an element of $S$. Suppose that $x^\\ast$ is a local optimum for the problem of minimizing $f(x)$ over $S$; that is, there exists some $\\epsilon>0$ such that $f(x^\\ast)\\leq f(x)$ for all $x\\in S$ for which $|x - x^\\ast|\\leq \\epsilon$. Prove that $x^\\ast$ is globally optimal; that is, $f(x^\\ast)\\leq f(x)$ for all $x\\in S$.\n",
    "\n",
    "---"
   ]
  },
  {
   "cell_type": "markdown",
   "id": "7feac3da",
   "metadata": {},
   "source": [
    "**Solution:**\n",
    "\n",
    "We prove this problem by contradiction.\n",
    "\n",
    "*Proof.*\n",
    "\n",
    "Suppose that there exists a point $x_0\\in S$ in which $f(x_0)<f(x^\\ast)$. Since $f(x)$ is a convex function, for any $\\lambda\\in [0,1]$, \n",
    "\n",
    "$$\n",
    "f(\\lambda x^\\ast + (1-\\lambda)x_0)\\leq \\lambda f(x^\\ast) + (1-\\lambda )f(x_0).\n",
    "$$\n",
    "\n",
    "Since $f(x_0)<f(x^\\ast)$,\n",
    "\n",
    "$$\n",
    "f(\\lambda x^\\ast + (1-\\lambda)x_0)< \\lambda f(x^\\ast) + (1-\\lambda )f(x^\\ast)=f(x^\\ast).\n",
    "$$\n",
    "\n",
    "We can find a $\\lambda$ that makes $\\lambda x^\\ast + (1-\\lambda)x_0$ locates at the neighbourhood of $x^\\ast$, i.e., \n",
    "\n",
    "$$\n",
    "x^\\ast-\\epsilon\\leq\\lambda x^\\ast + (1-\\lambda)x_0\\leq x^\\ast+\\epsilon;\n",
    "$$\n",
    "\n",
    "i.e., we can make $\\lambda$ satisfies:\n",
    "\n",
    "$$\n",
    "-\\epsilon\\leq(1-\\lambda)(x^\\ast-x^0)\\leq \\epsilon;\n",
    "$$\n",
    "\n",
    "i.e., we can make $\\lambda$ satisfies:\n",
    "\n",
    "$$\n",
    "1-\\lambda\\leq \\frac{\\epsilon}{|x_0-x^\\ast|}.\n",
    "$$\n",
    "\n",
    "This $\\lambda$ does exist, so there will exists a point in the neigourhood of $x^\\ast$ but its function value is smaller than $f(x^\\ast)$, which contradicts that $x^\\ast$ is a local minimum. \n",
    "\n",
    "$\\Box$"
   ]
  },
  {
   "cell_type": "code",
   "execution_count": null,
   "id": "ce0989a4",
   "metadata": {},
   "outputs": [],
   "source": []
  }
 ],
 "metadata": {
  "kernelspec": {
   "display_name": "Python 3 (ipykernel)",
   "language": "python",
   "name": "python3"
  },
  "language_info": {
   "codemirror_mode": {
    "name": "ipython",
    "version": 3
   },
   "file_extension": ".py",
   "mimetype": "text/x-python",
   "name": "python",
   "nbconvert_exporter": "python",
   "pygments_lexer": "ipython3",
   "version": "3.10.9"
  }
 },
 "nbformat": 4,
 "nbformat_minor": 5
}
