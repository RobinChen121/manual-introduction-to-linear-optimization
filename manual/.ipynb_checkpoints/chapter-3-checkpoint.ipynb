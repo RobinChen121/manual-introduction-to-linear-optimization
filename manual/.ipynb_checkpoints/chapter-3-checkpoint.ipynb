{
 "cells": [
  {
   "cell_type": "markdown",
   "id": "eafbb3d0",
   "metadata": {},
   "source": [
    "# Chapter 3\n",
    "## Exercise 3.1 (Local minimum of convex functions)\n",
    "\n",
    "Let $f: \\mathcal{R}^n \\rightarrow \\mathcal{R}$ be a convex function and let $S \\in \\mathcal{R}^n$ be a convex set. Let $x^\\ast$ be an element of $S$. Suppose that $x^\\ast$ is a local optimum for the problem of minimizing $f(x)$ over $S$; that is, there exists some $\\epsilon>0$ such that $f(x^\\ast)\\leq f(x)$ for all $x\\in S$ for which $|x - x^\\ast|\\leq \\epsilon$. Prove that $x^\\ast$ is globally optimal; that is, $f(x^\\ast)\\leq f(x)$ for all $x\\in S$.\n",
    "\n",
    "---"
   ]
  },
  {
   "cell_type": "code",
   "execution_count": null,
   "id": "345ad1df",
   "metadata": {},
   "outputs": [],
   "source": []
  }
 ],
 "metadata": {
  "kernelspec": {
   "display_name": "Python 3 (ipykernel)",
   "language": "python",
   "name": "python3"
  },
  "language_info": {
   "codemirror_mode": {
    "name": "ipython",
    "version": 3
   },
   "file_extension": ".py",
   "mimetype": "text/x-python",
   "name": "python",
   "nbconvert_exporter": "python",
   "pygments_lexer": "ipython3",
   "version": "3.10.9"
  }
 },
 "nbformat": 4,
 "nbformat_minor": 5
}
