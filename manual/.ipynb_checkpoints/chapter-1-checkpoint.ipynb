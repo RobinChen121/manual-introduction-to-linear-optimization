{
 "cells": [
  {
   "cell_type": "markdown",
   "id": "ac3e644a",
   "metadata": {},
   "source": [
    "<!-- Toogle google translation -->\n",
    "<div id=\"google_translate_element\"></div>\n",
    "\n",
    "<style>    \n",
    ".goog-te-gadget {\n",
    "  font-family: Roboto, \"Open Sans\", sans-serif !important;\n",
    "  text-transform: uppercase;\n",
    "}\n",
    ".goog-te-gadget-simple {\n",
    "  background-color: rgba(255, 255, 255, 0.2) !important;\n",
    "  border: 1px solid rgba(237, 230, 230, 0.5) !important;\n",
    "  padding: 8px !important;\n",
    "  border-radius: 4px !important;\n",
    "  font-size: 1rem !important;\n",
    "  line-height: 1rem !important;\n",
    "  display: inline-block;\n",
    "  cursor: pointer;\n",
    "  zoom: 1;\n",
    "}\n",
    "\n",
    ".goog-te-gadget-icon {\n",
    "  background-image: url(https://placehold.it/32) !important;\n",
    "  background-position: 0px 0px;\n",
    "  height: 0px !important;\n",
    "  width: 0px !important;\n",
    "  margin-right: 8px !important;\n",
    "  display: none;\n",
    "}\n",
    "\n",
    ".VIpgJd-ZVi9od-ORHb-OEVmcd {\n",
    "    display: none; // add !important if required \n",
    "  }\n",
    "    \n",
    ".goog-te-banner-frame.skiptranslate {\n",
    "    display: none !important;\n",
    "    } \n",
    "body {\n",
    "    top: 0px !important; \n",
    "    }\n",
    "</style>\n",
    "\n",
    "<script type=\"text/javascript\">\n",
    "      function googleTranslateElementInit() {\n",
    "        new google.translate.TranslateElement({ pageLanguage: 'en',\n",
    "                  includedLanguages: 'en,zh-CN,zh-TW,ja,ko,de,ru,fr,es,it,pt,hi,ar',\n",
    "layout: google.translate.TranslateElement.InlineLayout.SIMPLE }, 'google_translate_element');\n",
    "      }\n",
    "</script>\n",
    "<script type=\"text/javascript\"\n",
    "      src=\"https://translate.google.com/translate_a/element.js?cb=googleTranslateElementInit\"\n",
    "></script>\n",
    "<br>"
   ]
  },
  {
   "cell_type": "markdown",
   "id": "b30f5388",
   "metadata": {},
   "source": [
    "# Chapter 1\n",
    "## Exercise 1.1*"
   ]
  },
  {
   "cell_type": "markdown",
   "id": "15a55f12",
   "metadata": {},
   "source": [
    "Suppose that a function $f: \\mathcal{R}^n \\rightarrow \\mathcal{R}$ is both concave and convex. Prove that $f$ is an affine function.\n",
    "\n",
    "---"
   ]
  },
  {
   "cell_type": "markdown",
   "id": "8af0d765",
   "metadata": {},
   "source": [
    "**Solution:**\n",
    "\n",
    "The definition of affine function: a function of the form $f(x) = a_0 + \\sum_{i=1}^n a_ix_i$, where $a_0, . . . , a_n$ are scalars, called an affine function."
   ]
  },
  {
   "cell_type": "markdown",
   "id": "cf515d8b",
   "metadata": {},
   "source": [
    " We must show that $f$ can be written in this form. Let $g(x)=f(x)-f(0)$, so $f(x)=f(0)+g(x)$. After making $a_0=f(0)$, we must show $g(x)$ can be in the form $g(x)=\\sum_{i=1}^na_ix_i$ in the next step."
   ]
  },
  {
   "cell_type": "markdown",
   "id": "3af78587",
   "metadata": {},
   "source": [
    " To do this, we must show that $g(ax)=ag(x)$ for any scalar $a$ and $g(x+y)=g(x)+g(y)$ for any $x,y\\in\\mathcal{R}^n$."
   ]
  },
  {
   "cell_type": "markdown",
   "id": "a0969dcc",
   "metadata": {},
   "source": [
    "Recall that $f$ is both convex and concave, for any two points $x,y\\in\\mathcal{R}^n$ and any $0\\leq \\lambda\\leq 1$, $f[\\lambda x+(1-\\lambda)y]=\\lambda f(x)+(1-\\lambda)f(y)$,"
   ]
  },
  {
   "cell_type": "markdown",
   "id": "92c58532",
   "metadata": {},
   "source": [
    "- if $a=0$, it is trival that $g(ax)=ag(x)$ since $g(0)=0$."
   ]
  },
  {
   "cell_type": "markdown",
   "id": "4d04d3e5",
   "metadata": {},
   "source": [
    "- if $0<a\\leq 1$,\n",
    "\n",
    "$$\n",
    "g(ax)=f(ax)-f(0)=f\\big(ax+(1-a)0\\big)-f(0)=af(x)+(1-a)f(0)-f(0)=af(x)-af(0)=ag(x);\n",
    "$$"
   ]
  },
  {
   "cell_type": "markdown",
   "id": "0b17e69e",
   "metadata": {},
   "source": [
    "- if $a>1$,\n",
    "\n",
    "$$\n",
    "\\begin{align}\n",
    "g(x)=g(\\frac{1}{a}ax)=f(\\frac{1}{a}ax)-f(0)=f\\big(\\frac{1}{a}ax+(1-\\frac{1}{a})0\\big)-f(0)&=\\frac{1}{a}f(ax)+(1-\\frac{1}{a})f(0)-f(0)\\\\\n",
    "&=\\frac{1}{a}f(ax)-\\frac{1}{a}f(0)\\\\\n",
    "&=\\frac{1}{a}g(ax),\n",
    "\\end{align}\n",
    "$$\n",
    "\n",
    "$$\n",
    "\\Rightarrow\\quad g(ax)=ag(x).\n",
    "$$"
   ]
  },
  {
   "cell_type": "markdown",
   "id": "c8d9d283",
   "metadata": {},
   "source": [
    "Based on the above situations of $a$, we can prove that $g(x+y)=g(x)+g(y)$:\n",
    "\n",
    "$$\n",
    "\\begin{align}\n",
    "g(x+y)&=g(\\frac{1}{2}2x+\\frac{1}{2}2y)\\\\\n",
    "&=\\frac{1}{2}g(2x)+\\frac{1}{2}g(2y)\\\\\n",
    "&=\\frac{1}{2}2g(x)+\\frac{1}{2}2g(y)\\\\\n",
    "&=g(x)+g(y).\n",
    "\\end{align}\n",
    "$$\n"
   ]
  },
  {
   "cell_type": "markdown",
   "id": "eeffcde6",
   "metadata": {},
   "source": [
    "By making use of the above formula, we can also get:\n",
    "\n",
    "$$\n",
    "\\begin{align}\n",
    "&g(x)=g(2x-x)=g(2x)+g(-x)=2g(x)+g(-x)\\\\\n",
    "\\Rightarrow\\quad&g(x)=-g(-x).\n",
    "\\end{align}\n",
    "$$"
   ]
  },
  {
   "cell_type": "markdown",
   "id": "24858df0",
   "metadata": {},
   "source": [
    "- if $a<0$,\n",
    "\n",
    "$$\n",
    "\\begin{align}\n",
    "g(ax)=g\\big(-a(-x)\\big)&=-ag(-x)\\\\\n",
    "&=-a\\big(-g(x)\\big)\\\\\n",
    "&=ag(x).\n",
    "\\end{align}\n",
    "$$"
   ]
  },
  {
   "cell_type": "markdown",
   "id": "c72e8d5b",
   "metadata": {},
   "source": [
    "Now we have proved that for $g(ax)=ag(x)$ for any scalar $a$ and $g(x+y)=g(x)+g(y)$ for any $x,y\\in\\mathcal{R}^n$. So $g(x)$ can be in the form $g(x)=\\sum_{i=1}^na_ix_i$ and $f(x)$ can be in the form $f(x) = a_0 + \\sum_{i=1}^n a_ix_i$. Therefore, $f$ is an affine function.\n",
    "\n",
    "$\\Box$."
   ]
  },
  {
   "cell_type": "markdown",
   "id": "e471e4e0",
   "metadata": {},
   "source": [
    "```{note}\n",
    "The first exercise in this book is non-trival at all!\n",
    "```"
   ]
  },
  {
   "cell_type": "markdown",
   "id": "0b4e5d6d",
   "metadata": {},
   "source": [
    "## Exercise 1.2\n",
    "\n",
    "Suppose that $f_1 , \\dots, f_m$ are convex functions from $\\mathcal{R}^n$ into $\\mathcal{R}$ and let $f(x) = \\sum_{i=1}^m f_i(\\mathbf{x})$.\n",
    "\n",
    "(a) Show that if each $f_i$ is convex, so is $f$.\n",
    "\n",
    "(b) Show that if each $f_i$ is piecewise linear and convex, so is $f$."
   ]
  },
  {
   "cell_type": "markdown",
   "id": "1796ae79",
   "metadata": {},
   "source": [
    "---\n",
    "\n",
    "**Solution:**\n",
    "\n",
    "*Proof.*\n",
    "\n",
    "(a) for any two $\\mathbf{x},\\mathbf{y}\\in \\mathcal{R}^n$ and $\\lambda \\in [0, 1]$,\n",
    "\n",
    "$$\n",
    "\\begin{align}\n",
    "f\\big(\\lambda \\mathbf{x}+(1-\\lambda)\\mathbf{y}\\big)&=\\sum_{i=1}^mf_i\\big(\\lambda \\mathbf{x}+(1-\\lambda)\\mathbf{y}\\big) \\\\\n",
    "&\\leq \\sum_{i=1}^m\\big(\\lambda f_i(\\mathbf{x}) +(1-\\lambda)f_i(\\mathbf{y})\\big)\\\\\n",
    "&= \\sum_{i=1}^m\\lambda f_i(\\mathbf{x}) + \\sum_{i=1}^m(1-\\lambda)f_i(\\mathbf{y})\\\\\n",
    "&=\\lambda f(\\mathbf{x}) +(1-\\lambda)f(\\mathbf{y}).\n",
    "\\end{align}\n",
    "$$\n"
   ]
  },
  {
   "cell_type": "markdown",
   "id": "9386eaf7",
   "metadata": {},
   "source": [
    "Therefore, $f$ is convex."
   ]
  },
  {
   "cell_type": "markdown",
   "id": "03e4844d",
   "metadata": {},
   "source": [
    "(b) The definition of piecewise linear convex function: a function of this form $\\max_{j=1,\\dots,k} (\\mathbf{c_j^Tx}+d_j)$."
   ]
  },
  {
   "cell_type": "markdown",
   "id": "6d00a61c",
   "metadata": {},
   "source": [
    "Since each $f_i$ is piecewise linear convex,\n",
    "\n",
    "$$\n",
    "\\begin{align}\n",
    "f=\\sum_{i=1}^m f_i(\\mathbf{x})=\\sum_{i=1}^m\\max_{j^i=1^i,\\dots,k^i}(\\mathbf{c_{j^i}^{T}x}+d_{j^i}).\n",
    "\\end{align}\n",
    "$$"
   ]
  },
  {
   "cell_type": "markdown",
   "id": "c3c3219f",
   "metadata": {},
   "source": [
    "It is obvious that $\\max\\{a, b\\}+\\max\\{c,d\\}=\\max\\{a+c, a+d, b+c, b+d\\}$, i.e., the sum of several max expressions equals the max of all possible sums of selecting one element from each max expression."
   ]
  },
  {
   "cell_type": "markdown",
   "id": "d4ccc28e",
   "metadata": {},
   "source": [
    " Therefore, we can enumerate all the possible combinations of the sums to tranform $f$ in a linear convex form:\n",
    "\n",
    "$$\n",
    "f=\\max\\{\\mathbf{c_{1^1}^Tx}+d_{1^1} +\\dots + \\mathbf{c_{1^m}^Tx}+d_{1^m},~~ \\dots, ~~\\mathbf{c_{k^1}^Tx}+d_{k^1}+\\dots+\\mathbf{c_{k^m}^Tx}+d_{k^m}\\}.\n",
    "$$"
   ]
  },
  {
   "cell_type": "markdown",
   "id": "b6290602",
   "metadata": {},
   "source": [
    "There are $\\Pi_i k_i$ combinations, in which $k_i$ is the number of affine functions in the expression of $f_i$.\n",
    "\n",
    "$\\Box$"
   ]
  },
  {
   "cell_type": "markdown",
   "id": "1f584a73",
   "metadata": {},
   "source": [
    "## Exercise 1.3\n",
    "\n",
    "Consider the problem of minimizing a cost function of the form $\\mathbf{c'x} + f(\\mathbf{d'x})$, subject to the linear constraints $Ax\\geq  b$. Here, $d$ is a given vector and the function $f : \\mathcal{R}\\rightarrow\\mathcal{R}$ is as specified in the following figure. Provide a linear programming formulation of this problem."
   ]
  },
  {
   "cell_type": "markdown",
   "id": "782ec40a",
   "metadata": {},
   "source": [
    "![image.png](images/1-3.png)\n",
    "\n",
    "---"
   ]
  },
  {
   "cell_type": "markdown",
   "id": "1d8c6efa",
   "metadata": {},
   "source": [
    "**Solution:**\n",
    "\n",
    "From the picture, function $f$ can be exressed as:\n",
    "\n",
    "\\begin{align}\n",
    "f(x)=\\begin{cases}\n",
    "-x+1\\quad &x\\leq 1\\\\\n",
    "0\\quad &1<x\\leq 2\\\\\n",
    "2(x-2)\\quad &x>2.\n",
    "\\end{cases}\n",
    "\\end{align}"
   ]
  },
  {
   "cell_type": "markdown",
   "id": "c2a3bb4c",
   "metadata": {},
   "source": [
    "$f$ is apparently a piecewise linear convex function and can also be exressed as:\n",
    "\n",
    "$$\n",
    "f(x)=\\max\\{-x+1, 0, 2x+2\\}.\n",
    "$$"
   ]
  },
  {
   "cell_type": "markdown",
   "id": "15afc7f5",
   "metadata": {},
   "source": [
    "By adding another variable $z$, the linear programming formulation of this problem is:\n",
    "\n",
    "$$\n",
    "\\begin{align}\n",
    "\\min\\quad &\\mathbf{c'x}+z\\\\\n",
    "\\text{s.t.}\\quad & \\mathbf{Ax\\geq b}\\\\\n",
    "&z\\geq -x+1\\\\\n",
    "&z\\geq 0\\\\\n",
    "&z\\geq 2x-4.\n",
    "\\end{align}\n",
    "$$"
   ]
  },
  {
   "cell_type": "markdown",
   "id": "8994dc41",
   "metadata": {},
   "source": [
    "## Exercise 1.4\n",
    "\n",
    "Consider the problem \n",
    "\n",
    "$$\n",
    "\\begin{align}\n",
    "&\\min\\quad &&2x_1 + 3|x_2 - 10|\\\\\n",
    "&\\text{s.t.} &&|x_1 + 2| + |x_2| \\leq 5,\n",
    "\\end{align}\n",
    "$$\n",
    "\n",
    "and reformulate it as a linear programming problem.\n",
    "\n",
    "---"
   ]
  },
  {
   "cell_type": "markdown",
   "id": "1b433161",
   "metadata": {},
   "source": [
    "**Solution:**\n",
    "\n",
    "With additional variables $z_1$, $z_2$, $z_3$, we can formulate the linear programming problem below:\n",
    "\n",
    "$$\n",
    "\\begin{align}\n",
    "&\\min\\quad &&2x_1 + 3z_1\\\\\n",
    "&\\text{s.t.} && z_1\\geq x_2-10\\\\\n",
    "&&& z_2\\geq x_1+2\\\\\n",
    "&&& z_3\\geq x_2\\\\\n",
    "&&& z_1 + z_2 \\leq 5.\n",
    "\\end{align}\n",
    "$$"
   ]
  },
  {
   "cell_type": "markdown",
   "id": "aae3a60b",
   "metadata": {},
   "source": [
    "## Exercise 1.5\n",
    "\n",
    "Consider a linear optimization problem, with absolute values, of the following form:\n",
    "\n",
    "$$\n",
    "\\begin{align}\n",
    "&\\min && \\mathbf{c'x} + \\mathbf{d'y}\\\\\n",
    "&\\text{s.t.} && \\mathbf{Ax + By} \\leq b\\\\\n",
    "&&&     y_i = |x_i|, \\quad \\forall i.\n",
    "\\end{align}\n",
    "$$\n",
    "\n",
    "Assume that all entries of $\\mathbf{B}$ and $\\mathbf{d}$ are nonnegative."
   ]
  },
  {
   "cell_type": "markdown",
   "id": "216bb7dd",
   "metadata": {},
   "source": [
    "(a) Provide two different linear programming formulations, along the lines discussed in Section 1.3.\n",
    "\n",
    "(b) Show that the original problem and the two reformulations are equivalent in the sense that either all three are infeasible, or all three have the same optimal cost.\n",
    "\n",
    "(c) Provide an example to show that if $\\mathbf{B}$ has negative entries, the problem may have a local minimum that is not a global minimum. (It will be seen in Chapter 2 that this is never the case in linear programming problems. Hence, in the presence of such negative entries, a linear programming reformulation is implausible.)\n",
    "\n",
    "---"
   ]
  },
  {
   "cell_type": "markdown",
   "id": "ab6b3dad",
   "metadata": {},
   "source": [
    "**Solution:**\n",
    "\n",
    "(a) The first formulation:\n",
    "\n",
    "$$\n",
    "\\begin{align}\n",
    "&\\min && \\mathbf{c'x} + \\mathbf{d'y}\\\\\n",
    "&\\text{s.t.} && \\mathbf{Ax + By \\leq b}\\\\\n",
    "&&& y_i>x_i \\quad \\forall i\\\\\n",
    "&&& y_i>-x_i. \\quad \\forall i\n",
    "\\end{align}\n",
    "$$\n",
    "\n",
    "The second formulation:\n",
    "\n",
    "$$\n",
    "\\begin{align}\n",
    "&\\min && \\mathbf{c'(x^+-x^-)} + \\mathbf{d'(x^++x^-)}\\\\\n",
    "&\\text{s.t.} && \\mathbf{A(x^+-x^-) + B(x^++x^-) \\leq b}\\\\\n",
    "&&& x_i^+\\geq 0 \\quad \\forall i\\\\\n",
    "&&& x_i^-\\geq 0. \\quad \\forall i\n",
    "\\end{align}\n",
    "$$\n"
   ]
  },
  {
   "cell_type": "markdown",
   "id": "84060367",
   "metadata": {},
   "source": [
    "(b)  *Proof*\n",
    "\n",
    "We prove the equivalence by pairs."
   ]
  },
  {
   "cell_type": "markdown",
   "id": "a7f9857c",
   "metadata": {},
   "source": [
    "\n",
    "**original formulation $\\Longleftrightarrow$ the first formulation**"
   ]
  },
  {
   "cell_type": "markdown",
   "id": "7407985a",
   "metadata": {},
   "source": [
    "Assume one feasible solution for original formulation is $\\mathbf{x}^0$, $\\mathbf{y}^0$. Let $\\mathbf{x}^1=\\mathbf{x}^0$, $\\mathbf{y}^1=\\mathbf{y}^0$. Apparently, $\\mathbf{x}^1, \\mathbf{y}^1$ is feasible for the first formulation."
   ]
  },
  {
   "cell_type": "markdown",
   "id": "870f16b4",
   "metadata": {},
   "source": [
    "Conversely, assume one feasible solution for the first formulation is $\\mathbf{x}^1$, $\\mathbf{y}^1$. Let $\\mathbf{x}^0=\\mathbf{x}^1$, $\\mathbf{y}^0=\\mathbf{y}^1$. Apparently, $\\mathbf{x}^0, \\mathbf{y}^0$ is feasible for the original formulation."
   ]
  },
  {
   "cell_type": "markdown",
   "id": "302055b9",
   "metadata": {},
   "source": [
    "In addition, since the coefficients in the objective are same. The original formulation and the first formulation are equivalent: either have equal optimal cost or both are infeasible."
   ]
  },
  {
   "cell_type": "markdown",
   "id": "077b0cb7",
   "metadata": {},
   "source": [
    "**the second formulation $\\Longleftrightarrow$ original formulation**"
   ]
  },
  {
   "cell_type": "markdown",
   "id": "64ab7b61",
   "metadata": {},
   "source": [
    "First we show that in the optimal solution of the second formulation, $x_i^+$ and $x_i^-$, $\\forall i$ can not be both positive. If $x_i^+$ and $x_i^-$ are both positive, because the objective is to minimize and $\\mathbf{d}, \\mathbf{B}$ are nonnegative, we can reduce some value for $x_i^+$ and $x_i^-$ to make one of them be zero while satisfying the constraints and reducing the objective value."
   ]
  },
  {
   "cell_type": "markdown",
   "id": "446027d4",
   "metadata": {},
   "source": [
    "For the optimal solution of the second formulation , from above we know either $x_i^+=0$ or $x_i^-=0$, $\\forall i$. Let $x_i^0=x_i^+-x_i^-$, $y_i^0=x_i^++x_i^-$, we get a feasible solution for the original formulation.\n",
    "\n",
    "For a feasible solution of the original formulation, letting $x_i^+=\\max\\{x_i^0, 0\\}$, $x_i^-=\\max\\{-x_i^0, 0\\}$, we get a feasible solution for the second formulation."
   ]
  },
  {
   "cell_type": "markdown",
   "id": "6822d825",
   "metadata": {},
   "source": [
    "Therefore, the optimal solution of the second formulation is a feasible solution of the originial formulation and any feasible solution of the original formulation is a feasible solution of the second formulation. Hence, by proof of contradiction, the optimal solution for the orignial formulation is same with the second formulation; and if one formulation is infeasible, the other formulation must also be infeasible."
   ]
  },
  {
   "cell_type": "markdown",
   "id": "9ac87ffd",
   "metadata": {},
   "source": [
    "(3) When $\\mathbf{B}$ has negative entries, the feasible region for this problem may be not convex. Since entries of $\\mathbf{d}$ are still nonnegative, the objective function is still piecewise convex. In this situation, the problem may have a local minimum that is not a global minimum."
   ]
  },
  {
   "cell_type": "markdown",
   "id": "b9631499",
   "metadata": {},
   "source": [
    "For example, \n",
    "\n",
    "$$\n",
    "\\begin{align}\n",
    "\\min\\quad &|x|\\\\\n",
    "\\text{s.t.}\\quad&0.5x-|x|\\leq -1.\n",
    "\\end{align}\n",
    "$$\n",
    "\n",
    "It can also be written as:\n",
    "\n",
    "$$\n",
    "\\begin{align}\n",
    "\\min\\quad &|x|\\\\\n",
    "\\text{s.t.}\\quad&x\\geq 2\\quad &\\text{if } x\\geq 0\\\\\n",
    "&x\\geq -1/1.5\\quad &\\text{if }x<0.\n",
    "\\end{align}\n",
    "$$\n",
    "\n",
    "The picture of this problem is:"
   ]
  },
  {
   "cell_type": "code",
   "execution_count": 2,
   "id": "05dd137f",
   "metadata": {},
   "outputs": [
    {
     "data": {
      "image/png": "[encoded data removed]",
      "text/plain": [
       "<Figure size 640x480 with 1 Axes>"
      ]
     },
     "metadata": {},
     "output_type": "display_data"
    }
   ],
   "source": [
    "import matplotlib.pyplot as plt\n",
    "import numpy as np\n",
    "\n",
    "x1 = np.linspace(2, 3, 100)\n",
    "x2 = np.linspace(-1/1.5, 0, 100)\n",
    "\n",
    "y1 = x1\n",
    "y2 = -x2\n",
    "\n",
    "plt.plot(x1, y1)\n",
    "plt.plot(x2, y2)\n",
    "plt.scatter(2,2)\n",
    "\n",
    "plt.show()"
   ]
  },
  {
   "cell_type": "markdown",
   "id": "9cf4c5a2",
   "metadata": {},
   "source": [
    "Apparently, (2, 2) is local minimum of the problem, but it is not a global minimum."
   ]
  },
  {
   "cell_type": "markdown",
   "id": "51f75cab",
   "metadata": {},
   "source": [
    "## Exercise 1.6\n",
    "\n",
    "Provide linear programming formulations of the two variants of the rocket control problem discussed at the end of Section 1.3.\n",
    "\n",
    "---"
   ]
  },
  {
   "cell_type": "markdown",
   "id": "13fbfff4",
   "metadata": {},
   "source": [
    "**Solution:**\n",
    "\n",
    "Minimize the total fuel:\n",
    "\n",
    "$$\n",
    "\\begin{align}\n",
    "\\min\\quad & \\sum_{t=0}^{T-1}z_t\\\\\n",
    "\\text{s.t.}\\quad & x_{t+1}=x_t+v_t \\quad t=0,\\dots,T-1\\\\\n",
    "&v_{t+1}=v_t+a_t\\quad t=0,\\dots,T-1\\\\\n",
    "&z_t\\geq a_t\\quad \\forall t\\\\\n",
    "&z_t\\geq -a_t\\quad \\forall t\\\\\n",
    "&x_0=0\\\\\n",
    "&x_T=1\\\\\n",
    "&v_0=0\\\\\n",
    "&v_T=0.\n",
    "\\end{align}\n",
    "$$"
   ]
  },
  {
   "cell_type": "markdown",
   "id": "c436e14b",
   "metadata": {},
   "source": [
    "Minimize the maximum thrust required:\n",
    "\n",
    "$$\n",
    "\\begin{align}\n",
    "\\min\\quad & z\\\\\n",
    "\\text{s.t.}\\quad & x_{t+1}=x_t+v_t \\quad t=0,\\dots,T-1\\\\\n",
    "&v_{t+1}=v_t+a_t\\quad t=0,\\dots,T-1\\\\\n",
    "&z\\geq a_t\\quad \\forall t\\\\\n",
    "&z\\geq -a_t\\quad \\forall t\\\\\n",
    "&x_0=0\\\\\n",
    "&x_T=1\\\\\n",
    "&v_0=0\\\\\n",
    "&v_T=0.\n",
    "\\end{align}\n",
    "$$"
   ]
  },
  {
   "cell_type": "markdown",
   "id": "27c0b881",
   "metadata": {},
   "source": [
    "## Exercise 1.7 (The moment problem)\n",
    "\n",
    "Suppose that $Z$ is a random variable taking values in the set $0, 1 , \\dots, K$, with probabilities $p_0, p_1,\\dots, p_k$, respectively. We are given the values of the first two moments $E[Z] = \\sum_{k=0}^K kp_k$ and $E[Z^2]=\\sum_{k=0}^Kk^2p_k $ of $Z$ and we would like to obtain upper and lower bounds on the value of the fourth moment $E[Z^4]=\\sum_{k=0}^Kk^4p_k$ of $Z$. Show how linear programming can be used to approach this problem.\n",
    "\n",
    "---"
   ]
  },
  {
   "cell_type": "markdown",
   "id": "09cad9b6",
   "metadata": {},
   "source": [
    "**Solution:**\n",
    "\n",
    "The decision variables are $p_0,\\dots,p_K$. Build the linear programming model below to get the upper bound:\n",
    "\n",
    "$$\n",
    "\\begin{align}\n",
    "\\max\\quad& \\sum_{k=0}^{K}k^4p_k\\\\\n",
    "\\text{s.t.}\\quad& \\sum_{k=0}^K kp_k=E[Z]\\\\\n",
    "& \\sum_{k=0}^K k^2p_k=E[Z^2]\\\\\n",
    "& \\sum_{k=0}^Kp_k=1\\\\\n",
    "& p_k\\geq 0\\quad\\forall k.\n",
    "\\end{align}\n",
    "$$\n",
    "\n",
    "Replace $\\max$ with $\\min$ in the upper objective to get the lower bound."
   ]
  },
  {
   "cell_type": "markdown",
   "id": "490d8d61",
   "metadata": {},
   "source": [
    "## Exercise 1.8 (Road lighting) \n",
    "\n",
    "Consider a road divided into $n$ segments that is illuminated by $m$ lamps. Let $p_j$ be the power of the $j_{th}$ lamp. The illumination $I_i$ of the $i_{th}$ segment is assumed to be $\\sum_{j=1}^m a_{ij}p_j$ , where $a_{ij}$ are known coefficients. Let $I_i$ be the desired illumination of road $i$. We are interested in choosing the lamp powers $p_j$ so that the illuminations $I_i$ are close to the desired illuminations $I_i^\\ast$ . Provide a reasonable linear programming formulation of this problem. Note that the wording of the problem is loose and there is more than one possible formulation.\n",
    "\n",
    "___"
   ]
  },
  {
   "cell_type": "markdown",
   "id": "9600ab66",
   "metadata": {},
   "source": [
    "**Solution:**\n",
    "\n",
    "$$\n",
    "\\begin{align}\n",
    "\\min\\quad&\\sum_{i=1}^n z_i\\\\\n",
    "\\text{s.t.}\\quad&z_i\\geq I_i^\\ast-\\sum_{j=1}^m a_{ij}p_j\\quad\\forall i\\\\\n",
    "& z_i\\geq -I_i^\\ast+\\sum_{j=1}^m a_{ij}p_j\\quad\\forall i\\\\\n",
    "&p_j\\geq 0\\quad\\forall j.\n",
    "\\end{align}\n",
    "$$"
   ]
  },
  {
   "cell_type": "markdown",
   "id": "d9da26c3",
   "metadata": {},
   "source": [
    "## Exercise 1.9\n",
    "\n",
    "Consider a school district with $I$ neighborhoods, $J$ schools, and $G$ grades at each school. Each school $j$ has a capacity of $C_{jg}$ for grade $g$. In each neighborhood $i$, the student population of grade $g$ is $S_{ig}$ . Finally, the distance of school $j$ from neighborhood $i$ is $d_{ij}$ . Formulate a linear programming problem whose objective is to assign all students to schools, while minimizing the total distance traveled by all students. (You may ignore the fact that numbers of students must be integer.)\n",
    "\n",
    "---"
   ]
  },
  {
   "cell_type": "markdown",
   "id": "96196ea3",
   "metadata": {},
   "source": [
    "**Solution:**\n",
    "\n",
    "Let $x_{igj}$ be the number of students in neighborhood $i$ of grade $g$ that is alligned to the school $j$. "
   ]
  },
  {
   "cell_type": "markdown",
   "id": "eb46de87",
   "metadata": {},
   "source": [
    "$$\n",
    "\\begin{align}\n",
    "\\min\\quad &\\sum_{i}\\sum_g\\sum_j x_{igj}d_{ij}\\\\\n",
    "\\text{s.t.}\\quad & \\sum_i x_{igj}\\leq C_{jg}\\quad \\forall g,\\forall j\\\\\n",
    "& \\sum_j x_{igj}=S_{ig}\\quad \\forall i,\\forall g\\\\\n",
    "&x_{igj}\\geq 0\\quad\\forall i,\\forall g,\\forall j.\n",
    "\\end{align}\n",
    "$$\n",
    "\n",
    "\n"
   ]
  },
  {
   "cell_type": "markdown",
   "id": "d9a96bda",
   "metadata": {},
   "source": [
    "## Exercise 1.10 (Production and inventory planning)\n",
    "\n",
    "A company must deliver $d_i$ units of its product at the end of the $i_{th}$ month. Material produced during a month can be delivered either at the end of the same month or can be stored as inventory and delivered at the end of a subsequent month; however, there is\n",
    "a storage cost of $c_1$ dollars per month for each unit of product held in inventory. The year begins with zero inventory. If the company produces $x_i$ units in month $i$ and $x_{i+1}$ units in month $i + 1$, it incurs a cost of $c_2|x_{i+1} - x_i|$ dollars, reflecting\n",
    "the cost of switching to a new production level. Formulate a linear programming problem whose objective is to minimize the total cost of the production and inventory schedule over a period of twelve months. Assume that inventory left at the end of the year has no value and does not incur any storage costs.\n",
    "\n",
    "---"
   ]
  },
  {
   "cell_type": "markdown",
   "id": "d8e90b84",
   "metadata": {},
   "source": [
    "**Solution:**\n",
    "\n",
    "Let $I_i$ be the end-of-period inventory at the $i_{th}$ month.$I_0=0,x_0=0$. We build the liner programming model below:\n",
    "\n",
    "$$\n",
    "\\begin{align}\n",
    "\\min\\quad & \\sum_{i=1}^{12}(c_1I_i+c_2z_i)\\\\\n",
    "\\text{s.t.}\\quad& z_i\\geq x_{i}-x_{i-1}\\quad\\forall i\\\\\n",
    "& z_i\\geq x_{i-1}-x_i\\quad\\forall i\\\\\n",
    "& I_i=I_{i-1}+x_i-d_i\\quad\\forall i\\\\\n",
    "& I_{i-1}\\leq d_{i}\\quad\\forall i \\quad\\text{(inventory should be delivered at the end of a subsequent month)}\\\\\n",
    "&I_i\\geq 0\\quad\\forall i\\\\\n",
    "&x_i\\geq 0\\quad\\forall i.\n",
    "\\end{align}\n",
    "$$"
   ]
  },
  {
   "cell_type": "markdown",
   "id": "46b011f5",
   "metadata": {},
   "source": [
    "## Exercise 1.11 (Optimal currency conversion) \n",
    "\n",
    "Suppose that there are $N$ available currencies, and assume that one unit of currency $i$ can be exchanged for $r_{ij}$ units of currency $j$. (Naturally, we assume that $r_{ij} > 0$.) There also certain regulations that impose a limit $U_i$ on the total amount of currency $i$ that can be exchanged on any given day. Suppose that we start with $B$ units of currency 1 and that we would like to maximize the number of units of currency $N$ that we end up with at the end of the day, through a sequence of currency transactions. Provide a linear programming formulation of this problem. Assume that for any sequence $i_1, \\dots, i_k$ of currencies, we have $r_{i_1i_2}r_{i_2i_3}\\dots r_{i_{k - 1}i_k}r_{i_ki_1} \\leq 1$, which means that wealth cannot be multiplied by going through a cycle of currencies.\n",
    "\n",
    "---"
   ]
  },
  {
   "cell_type": "markdown",
   "id": "900e641d",
   "metadata": {},
   "source": [
    "**Solution:**\n",
    "\n",
    "Let $x_{ij}$ be the amount of currency $i$ that exchanges for currency $j$.\n",
    "\n",
    "$$\n",
    "\\begin{align}\n",
    "\\max\\quad&\\sum_{i=1}^{N-1}r_{iN}x_{iN}\\\\\n",
    "\\text{s.t.}\\quad&\\sum_{j=2}^N x_{1j}\\leq B\\\\\n",
    "& \\sum_{j\\neq i}^Nx_{ij}\\leq U_i\\quad\\forall i\\\\\n",
    "&\\sum_{j\\neq i}^Nr_{ji}x_{ji}\\geq \\sum_{i\\neq j}^Nx_{ij}\\quad \\forall i\\\\\n",
    "& x_{i1}=0\\quad i=2,\\dots, N\\\\\n",
    "&x_{Ni}=0\\quad i=1,\\dots,N-1\\\\\n",
    "&x_{ij}\\geq 0.\n",
    "\\end{align}\n",
    "$$"
   ]
  },
  {
   "cell_type": "markdown",
   "id": "f8a13150",
   "metadata": {},
   "source": [
    "## Exercise 1.12 (Chebychev center)\n",
    "\n",
    "Consider a set $P$ described by linear inequality constraints, that is, $P =\\{\\mathbf{x} \\in \\mathcal{R}^n\\mid \\mathbf{a'x} \\leq b_i , i = 1,\\dots,m\\}$. A ball with center $\\mathbf{y}$ and radius $r$ is defined as the set of all points within (Euclidean) distance $r$ from $\\mathbf{y}$. We are interested in finding a ball with the largest possible radius, which is entirely contained within the set $P$. (The center of such a ball is called the *Chebychev center* of $P$.) Provide a linear programming formulation of this problem.\n",
    "\n",
    "---"
   ]
  },
  {
   "cell_type": "markdown",
   "id": "d7e1a976",
   "metadata": {},
   "source": [
    "**Solution:**\n",
    "\n",
    "For a center point $\\mathbf{y}$, the ball with radius $r$ can be represented as:\n",
    "\n",
    "$$\n",
    "\\begin{equation}\n",
    "\\|\\mathbf{x-y}\\|\\leq r.\n",
    "\\end{equation}\n",
    "$$\n",
    "\n",
    "However, the above formula is not linear. We need to find a smart way to describe the ball inside the polyhedron by linear constraints."
   ]
  },
  {
   "cell_type": "markdown",
   "id": "d6434c83",
   "metadata": {},
   "source": [
    "For a  ball centered at $y$ with radius $r$, it can also be represented by the following set:\n",
    "\n",
    "$$\n",
    "\\{\\mathbf{y+v} \\mid \\|\\mathbf{v}\\|\\leq r\\},\n",
    "$$\n",
    "\n",
    "where $\\mathbf{v}$ is a random vector. The ball should be also in the polyhedron set. Hence,\n",
    "\n",
    "\n",
    "\\begin{align}\n",
    "\\mathbf{a'(y+v)}\\leq b_i\\quad\\forall i.\n",
    "\\end{align}\n",
    "\n",
    "The above formula should be hold for any $\\mathbf v$ that satifies $\\|\\mathbf{v}\\|\\leq r$. By Cauchy-Schwarz inequality,"
   ]
  },
  {
   "cell_type": "markdown",
   "id": "8aaaa45d",
   "metadata": {},
   "source": [
    "$$\n",
    "\\mathbf{a'v}\\leq \\mathbf{\\|a'\\|\\|v\\|}=r\\mathbf{\\|a'\\|}.\n",
    "$$"
   ]
  },
  {
   "cell_type": "markdown",
   "id": "eef30ab5",
   "metadata": {},
   "source": [
    "Therefore, the ball in the polyhedron set should satisfy the following linear constraint:\n",
    "\n",
    "$$\n",
    "\\mathbf{a'y}+r\\mathbf{\\|a'\\|}\\leq b_i.\n",
    "$$\n"
   ]
  },
  {
   "cell_type": "markdown",
   "id": "330cd6d6",
   "metadata": {},
   "source": [
    "Finally, the liner programming model can be formulated below:\n",
    "\n",
    "$$\n",
    "\\begin{align}\n",
    "\\max\\quad & r\\\\\n",
    "\\text{s.t.}\\quad & \\mathbf{a'y}+r\\mathbf{\\|a'\\|}\\leq b_i\\quad \\forall i.\n",
    "\\end{align}\n",
    "$$"
   ]
  },
  {
   "cell_type": "markdown",
   "id": "4b2f9e57",
   "metadata": {},
   "source": [
    "```{note}\n",
    "This exercise is not trivial!\n",
    "```"
   ]
  },
  {
   "cell_type": "markdown",
   "id": "b09b237c",
   "metadata": {},
   "source": [
    "## Exercise 1.13 (Linear fractional programming)\n",
    "\n",
    "Consider the problem\n",
    "\n",
    "$$\n",
    "\\begin{align}\n",
    "\\min\\quad &\\frac{\\mathbf{c'x}+d}{\\mathbf{f'x}+g}\\\\\n",
    "\\text{s.t.}\\quad &\\mathbf{Ax \\leq b}\\\\\n",
    "&\\mathbf{f'x}+g > 0.\n",
    "\\end{align}\n",
    "$$\n",
    "\n",
    "Suppose that we have some prior knowledge that the optimal cost belongs to an interval $[K, L]$. Provide a procedure, that uses linear programming as a subroutine, and that allows us to compute the optimal cost within any desired accuracy. Hint: Consider the problem of deciding whether the optimal cost is less than or equal to a certain number.\n",
    "\n",
    "---"
   ]
  },
  {
   "cell_type": "markdown",
   "id": "5ed743d7",
   "metadata": {},
   "source": []
  },
  {
   "cell_type": "code",
   "execution_count": null,
   "id": "88b4866c",
   "metadata": {},
   "outputs": [],
   "source": []
  },
  {
   "cell_type": "code",
   "execution_count": null,
   "id": "ca1511d0",
   "metadata": {},
   "outputs": [],
   "source": []
  },
  {
   "cell_type": "code",
   "execution_count": null,
   "id": "aec04382",
   "metadata": {},
   "outputs": [],
   "source": []
  },
  {
   "cell_type": "code",
   "execution_count": null,
   "id": "1674ea73",
   "metadata": {},
   "outputs": [],
   "source": []
  },
  {
   "cell_type": "markdown",
   "id": "ba6a9223",
   "metadata": {},
   "source": [
    "<script src=\"https://giscus.app/client.js\"\n",
    "        data-repo=\"robinchen121/book-Python-Data-Science\"\n",
    "        data-repo-id=\"R_kgDOKFdyOw\"\n",
    "        data-category=\"Announcements\"\n",
    "        data-category-id=\"DIC_kwDOKFdyO84CgWHi\"\n",
    "        data-mapping=\"pathname\"\n",
    "        data-strict=\"0\"\n",
    "        data-reactions-enabled=\"1\"\n",
    "        data-emit-metadata=\"0\"\n",
    "        data-input-position=\"bottom\"\n",
    "        data-theme=\"light\"\n",
    "        data-lang=\"en\"\n",
    "        crossorigin=\"anonymous\"\n",
    "        async>\n",
    "</script>"
   ]
  }
 ],
 "metadata": {
  "kernelspec": {
   "display_name": "Python 3 (ipykernel)",
   "language": "python",
   "name": "python3"
  },
  "language_info": {
   "codemirror_mode": {
    "name": "ipython",
    "version": 3
   },
   "file_extension": ".py",
   "mimetype": "text/x-python",
   "name": "python",
   "nbconvert_exporter": "python",
   "pygments_lexer": "ipython3",
   "version": "3.10.9"
  }
 },
 "nbformat": 4,
 "nbformat_minor": 5
}
