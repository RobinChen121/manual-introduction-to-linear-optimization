{
 "cells": [
  {
   "cell_type": "markdown",
   "id": "6ca50021",
   "metadata": {},
   "source": [
    "# Chapter 2\n",
    "## Excersie 2.1\n",
    "\n",
    "For each one of the following sets, determine whether it is a polyhedron.\n",
    "\n",
    "(a) The set of all $(x, y)\\in \\mathcal{R}^2$ satisfying the constraints:\n",
    "\n",
    "$$\n",
    "\\begin{aligned}\n",
    "x\\cos\\theta+y\\sin\\theta&\\leq 1,\\quad \\forall~\\theta \\in[0, \\pi/2],\\\\\n",
    "x&\\geq 0,\\\\\n",
    "y&\\geq 0.\n",
    "\\end{aligned}\n",
    "$$\n",
    "\n",
    "(b) The set of all $x\\in\\mathcal{R}$ satisfying the constraint $x^2 - 8x + 15 \\leq 0$.\n",
    "\n",
    "(c) The empty set."
   ]
  },
  {
   "cell_type": "markdown",
   "id": "6386c110",
   "metadata": {},
   "source": [
    "**Solution**\n",
    "\n",
    "(a) The set equals $\\{ (x,y) | x \\geq 0, y \\geq 0, x^2 + y^2 \\leq 1 \\}$, which has the following image:"
   ]
  },
  {
   "cell_type": "markdown",
   "id": "cdc1180c",
   "metadata": {},
   "source": [
    "![circle.png](images/2-1.png)"
   ]
  },
  {
   "cell_type": "markdown",
   "id": "3dd6caee",
   "metadata": {},
   "source": [
    "It is a set represented by infinite linear constraints, while a polyhedron is formed by **finite** linear constraints.\n",
    "\n",
    "(b) The set is $\\{x\\geq 3, x\\leq 5\\}$ and is a polyhedron.\n",
    "\n",
    "(c) The empty set can be represented as $\\{x\\geq 0, x< 0\\}$ and is a polyhedron."
   ]
  },
  {
   "cell_type": "markdown",
   "id": "ca101dc5",
   "metadata": {},
   "source": [
    "## Excersie 2.2\n",
    "\n",
    "Let $f:\\mathcal{R}^n\\rightarrow\\mathcal{R}$ be a convex function and let $c$ be some constant. Show that the set $S = \\{\\bf{x} \\in \\mathcal{R}^n\\mid f(\\bf{x}) \\leq c\\}$ is convex.\n"
   ]
  },
  {
   "cell_type": "markdown",
   "id": "a8a978f8",
   "metadata": {},
   "source": [
    "**Solution**\n",
    "\n",
    "Assume two random element $x_1$ and $x_2$ in the set $S$,  therefore\n",
    "\n",
    "$$\n",
    " \\begin{aligned}\n",
    " f(x_1)\\leq c\\\\\n",
    " f(x_2)\\leq c\n",
    " \\end{aligned}\n",
    "$$\n",
    "\n",
    "For a parameter $\\theta\\in [0, 1]$, \n",
    "\n",
    "$$\n",
    " \\begin{aligned}\n",
    " \\theta f(x_1)&\\leq  \\theta c\\\\\n",
    " (1-\\theta)f(x_2)&\\leq  (1-\\theta) c\n",
    " \\end{aligned}\n",
    "$$\n",
    "\n",
    " Thus, \n",
    " \n",
    "$$\n",
    " \\theta f(x_1)+ (1-\\theta)f(x_2)\\leq c\n",
    "$$\n",
    "\n",
    "Since $f$ is a convex function, \n",
    "\n",
    "$$\n",
    "f(\\theta x_1+(1-\\theta)x_2)\\leq \\theta f(x_1)+ (1-\\theta)f(x_2)\n",
    "$$\n",
    "\n",
    "And this leads to\n",
    "\n",
    "$$\n",
    "f(\\theta x_1+(1-\\theta)x_2)\\leq c\n",
    "$$\n",
    "\n",
    "Therefore, the set $S$ is convex. $\\Box$\n"
   ]
  },
  {
   "cell_type": "markdown",
   "id": "3463e373",
   "metadata": {},
   "source": [
    "## Exercise 2.4\n",
    "We know that every linear programming problem can be converted to an equivalent problem in standard form. We also know that nonempty polyhedra in standard form have at least one extreme point. We are then tempted to conclude that every nonempty polyhedron has at least one extreme point. Explain what is wrong with this argument."
   ]
  },
  {
   "cell_type": "markdown",
   "id": "77d046e4",
   "metadata": {},
   "source": [
    "**solution**\n",
    "\n",
    "Assume a nonempty polydron is a hyperplane ${\\bf a'x}=b$, for any point $x_0$ in it, we can find other two points $x_1$, $x_2$ that satisfies $x_0 = \\lambda x_1+(1-\\lambda)x_2$, so there can not be an extreme point in this polyhedron. "
   ]
  },
  {
   "cell_type": "markdown",
   "id": "6c13df51",
   "metadata": {},
   "source": [
    "```{note}\n",
    "A hyperplane is a polyhedron, but it does has extreme points.\n",
    "```"
   ]
  },
  {
   "cell_type": "code",
   "execution_count": null,
   "id": "210d2a82",
   "metadata": {},
   "outputs": [],
   "source": []
  }
 ],
 "metadata": {
  "kernelspec": {
   "display_name": "Python 3 (ipykernel)",
   "language": "python",
   "name": "python3"
  },
  "language_info": {
   "codemirror_mode": {
    "name": "ipython",
    "version": 3
   },
   "file_extension": ".py",
   "mimetype": "text/x-python",
   "name": "python",
   "nbconvert_exporter": "python",
   "pygments_lexer": "ipython3",
   "version": "3.10.9"
  }
 },
 "nbformat": 4,
 "nbformat_minor": 5
}